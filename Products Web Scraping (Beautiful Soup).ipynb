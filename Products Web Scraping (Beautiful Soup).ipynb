{
 "cells": [
  {
   "cell_type": "markdown",
   "id": "54c15089",
   "metadata": {},
   "source": [
    "# Import Libraries"
   ]
  },
  {
   "cell_type": "code",
   "execution_count": 5,
   "id": "eff9fdfe",
   "metadata": {},
   "outputs": [],
   "source": [
    "import requests\n",
    "from bs4 import BeautifulSoup\n",
    "import csv\n",
    "import os"
   ]
  },
  {
   "cell_type": "markdown",
   "id": "256fedf1",
   "metadata": {},
   "source": [
    "# Scraping Function\n",
    "\n",
    "#### I've supposed that the category is Audio & Hifi in Electronics, is page: https://www.bol.com/nl/nl/sf/electronics/ there are many categories (Audio & Hifi) is one of them"
   ]
  },
  {
   "cell_type": "code",
   "execution_count": 7,
   "id": "fb179766",
   "metadata": {},
   "outputs": [],
   "source": [
    "def main(page):\n",
    "    src = page.content\n",
    "    soup = BeautifulSoup(src, \"lxml\")\n",
    "    \n",
    "    #list to store dictionaries containing the product information\n",
    "    prod_list = []\n",
    "    \n",
    "    #selects a list of products on the web page\n",
    "    lists = soup.find(\"ul\", {\"class\" : \"list-view\"})\n",
    "    products = lists.find_all(\"li\", {\"class\" : \"product-item--row\"})\n",
    "    print(\"Number Of Products = \", len(products))\n",
    "    \n",
    "    #extracts information from the product\n",
    "    def get_info(products):\n",
    "        pid = products.get('data-id')\n",
    "        #print(pid)\n",
    "        \n",
    "        info = products.find(\"div\", {\"class\" : \"product-item__info\"})\n",
    "        \n",
    "        title = info.find(\"div\", {\"class\" : \"product-title--inline\"}).text.strip()\n",
    "        #print(title)\n",
    "        \n",
    "        brand = info.find(\"ul\", {\"class\" : \"product-creator\"}).text.strip()\n",
    "        #print(brand)\n",
    "        \n",
    "        #to handle errors\n",
    "        try:\n",
    "            rate = info.find(\"div\", {\"class\" : \"u-mb--xs\"}).get('aria-label').split()[0]\n",
    "            #print(rate)\n",
    "        except:\n",
    "            rate = \"\"\n",
    "        \n",
    "        n_reviews = info.find(\"div\", {\"class\" : \"star-rating\"}).get('data-count')\n",
    "        #print(n_reviews)\n",
    "        \n",
    "        \n",
    "        url = \"https://www.bol.com\" + info.find(\"div\", {\"class\" : \"product-title--inline\"}).find(\"a\", {\"class\" : \"product-title\"}).get('href')\n",
    "        #print(url)\n",
    "        \n",
    "        #to handle errors\n",
    "        try:\n",
    "            price_elem = products.find(\"span\", {\"class\" : \"promo-price\"}).text.strip()\n",
    "            price_fraction_elem = products.find(\"span\", {\"class\" : \"promo-price__fraction\"}).text.strip()\n",
    "            \n",
    "            if price_fraction_elem == \"-\":\n",
    "                price_fraction_elem = \"00\"\n",
    "            \n",
    "            #Concatenate the price and price fraction\n",
    "            price = price_elem + ',' + price_fraction_elem if price_fraction_elem else price_elem\n",
    "            #print(price)\n",
    "        except:\n",
    "            price=\"\"\n",
    "        \n",
    "        category = soup.find(\"h1\", {\"class\" : \"bol_header\"}).text.strip()\n",
    "        #print(category)\n",
    "        \n",
    "        prod_list.append({\"pid\": pid, \"title\": title, \"brand\": brand, \"rating\": rate, \"n_reviews\":n_reviews, \"url\": url, \"price\": price, \"category_name\": category})\n",
    "       \n",
    "    #iterates over each product in the products list\n",
    "    for product in products:\n",
    "        get_info(product)\n",
    "        \n",
    "    #the path the file will be saved in\n",
    "    path = \"Products_Data.csv\"\n",
    "    \n",
    "    #to check if the file is exists or not\n",
    "    file_exists = os.path.isfile(path)\n",
    "    \n",
    "    #to extract the header\n",
    "    fieldnames = prod_list[0].keys()\n",
    "\n",
    "    with open(path, \"a\", errors='ignore', newline='') as file: #\"a\" for append\n",
    "        writer = csv.DictWriter(file, fieldnames)\n",
    "\n",
    "        #to write the header one time\n",
    "        if not file_exists:\n",
    "            writer.writeheader()\n",
    "\n",
    "        writer.writerows(prod_list)    "
   ]
  },
  {
   "cell_type": "markdown",
   "id": "e64039be",
   "metadata": {},
   "source": [
    "# Function To Handle which page to scrape"
   ]
  },
  {
   "cell_type": "code",
   "execution_count": 3,
   "id": "5b7ecf65",
   "metadata": {},
   "outputs": [],
   "source": [
    "def scrape(url, num):\n",
    "    if (num == 1):\n",
    "        page = requests.get(url)\n",
    "    else:\n",
    "        page = requests.get(url + \"?page=\" + str(num))\n",
    "    main(page)\n",
    "    print(\"Done\")"
   ]
  },
  {
   "cell_type": "code",
   "execution_count": 8,
   "id": "781515ee",
   "metadata": {},
   "outputs": [
    {
     "name": "stdout",
     "output_type": "stream",
     "text": [
      "Enter The Number of Page you want to scrape data from: 6\n",
      "Number Of Products =  24\n",
      "Done\n"
     ]
    }
   ],
   "source": [
    "page_num = input(\"Enter The Number of Page you want to scrape data from: \")\n",
    "url = \"https://www.bol.com/nl/nl/l/audio-hifi/10714/\"\n",
    "\n",
    "scrape(url, page_num)"
   ]
  }
 ],
 "metadata": {
  "kernelspec": {
   "display_name": "Python 3 (ipykernel)",
   "language": "python",
   "name": "python3"
  },
  "language_info": {
   "codemirror_mode": {
    "name": "ipython",
    "version": 3
   },
   "file_extension": ".py",
   "mimetype": "text/x-python",
   "name": "python",
   "nbconvert_exporter": "python",
   "pygments_lexer": "ipython3",
   "version": "3.8.8"
  }
 },
 "nbformat": 4,
 "nbformat_minor": 5
}
