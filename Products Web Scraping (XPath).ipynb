{
 "cells": [
  {
   "cell_type": "markdown",
   "id": "49c921db",
   "metadata": {},
   "source": [
    "# Import Libraries"
   ]
  },
  {
   "cell_type": "code",
   "execution_count": 1,
   "id": "eff9fdfe",
   "metadata": {},
   "outputs": [],
   "source": [
    "import requests\n",
    "import csv\n",
    "from parsel import Selector\n",
    "import os\n",
    "import random"
   ]
  },
  {
   "cell_type": "markdown",
   "id": "5a5f86b4",
   "metadata": {},
   "source": [
    "# Scraping Function\n",
    "\n",
    "#### Note: I've supposed that the category is Audio & Hifi in Electronics, is page: https://www.bol.com/nl/nl/sf/electronics/ there are many categories (Audio & Hifi) is one of them "
   ]
  },
  {
   "cell_type": "code",
   "execution_count": 2,
   "id": "fb179766",
   "metadata": {},
   "outputs": [],
   "source": [
    "def main(page):\n",
    "    select = Selector(text=page.text)\n",
    "    \n",
    "    #list to store dictionaries containing the product information\n",
    "    prod_list = []\n",
    "    \n",
    "    #selects a list of products on the web page\n",
    "    products = select.xpath('//*[@id=\"js_items_content\"]/li')\n",
    "    print(\"Number Of Products = \", len(products))\n",
    "    \n",
    "    #extracts information from the product\n",
    "    def get_info(product):\n",
    "        pid = product.xpath('@data-id').extract_first()\n",
    "        #print(pid)\n",
    "        \n",
    "        title = product.xpath('.//a[contains(@class, \"product-title\")]/text()').extract_first()\n",
    "        #print(title)\n",
    "        \n",
    "        brand = product.xpath('.//a[@data-test=\"party-link\"]/text()').extract_first()\n",
    "        #print(brand)\n",
    "        \n",
    "        #to handle errors\n",
    "        try:\n",
    "            rate = product.xpath('.//div[@class=\"u-mb--xs\"]/@aria-label').extract_first().split()[0]\n",
    "            #print(rate)\n",
    "        except:\n",
    "            rate = \"\"\n",
    "        \n",
    "        n_reviews = product.xpath('.//div[@class=\"star-rating\"]/@data-count').extract_first()\n",
    "        #print(n_reviews)\n",
    "        \n",
    "        url = \"https://www.bol.com\" + product.xpath('.//a[contains(@class, \"product-title\")]/@href').extract_first()\n",
    "        #print(url)\n",
    "        \n",
    "        #to handle errors\n",
    "        try:\n",
    "            # Extract the price and price fraction\n",
    "            price_elem = product.xpath('.//span[contains(@class, \"promo-price\")]/text()').extract_first().strip()\n",
    "            price_fraction_elem = product.xpath('.//sup[contains(@class, \"promo-price__fraction\")]/text()').extract_first().strip()\n",
    "\n",
    "            if price_fraction_elem == \"-\":\n",
    "                price_fraction_elem = \"00\"\n",
    "\n",
    "            #Concatenate the price and price fraction\n",
    "            price = price_elem + ',' + price_fraction_elem if price_fraction_elem else price_elem\n",
    "            #print(price)\n",
    "        except:\n",
    "            price=\"\"\n",
    "        \n",
    "        category = select.xpath('//h1[contains(@class, \"bol_header\")]/text()').extract_first()\n",
    "        #print(category)\n",
    "        \n",
    "        prod_list.append({\"pid\": pid, \"title\": title, \"brand\": brand, \"rating\": rate, \"n_reviews\":n_reviews, \"url\": url, \"price\": price, \"category_name\": category})\n",
    "        \n",
    "    #iterates over each product in the products list\n",
    "    for product in products:\n",
    "        get_info(product)\n",
    "        \n",
    "    #the path the file will be saved in\n",
    "    path = \"Products_Data.csv\"\n",
    "    \n",
    "    #to check if the file is exists or not\n",
    "    file_exists = os.path.isfile(path)\n",
    "    \n",
    "    #to extract the header\n",
    "    fieldnames = prod_list[0].keys()\n",
    "\n",
    "    with open(path, \"a\", errors='ignore', newline='') as file: #\"a\" for append\n",
    "        writer = csv.DictWriter(file, fieldnames)\n",
    "\n",
    "        #to write the header one time\n",
    "        if not file_exists:\n",
    "            writer.writeheader()\n",
    "\n",
    "        writer.writerows(prod_list)    "
   ]
  },
  {
   "cell_type": "markdown",
   "id": "311e5aa1",
   "metadata": {},
   "source": [
    "# Function To Handle which page to scrape"
   ]
  },
  {
   "cell_type": "code",
   "execution_count": 3,
   "id": "08de6bc0",
   "metadata": {},
   "outputs": [],
   "source": [
    "def scrape(url, num):\n",
    "    if num == 1:\n",
    "        page = requests.get(url, proxies=proxies)\n",
    "    else:\n",
    "        page = requests.get(url + \"?page=\" + str(num))\n",
    "\n",
    "    main(page)\n",
    "    print(\"Done\")"
   ]
  },
  {
   "cell_type": "code",
   "execution_count": 12,
   "id": "5b7ecf65",
   "metadata": {},
   "outputs": [
    {
     "name": "stdout",
     "output_type": "stream",
     "text": [
      "Enter The Number of Page you want to scrape data from: 400\n",
      "Number Of Products =  24\n",
      "Done\n"
     ]
    }
   ],
   "source": [
    "page_num = input(\"Enter The Number of Page you want to scrape data from: \")\n",
    "url = \"https://www.bol.com/nl/nl/l/audio-hifi/10714/\"\n",
    "\n",
    "scrape(url, page_num)"
   ]
  }
 ],
 "metadata": {
  "kernelspec": {
   "display_name": "Python 3 (ipykernel)",
   "language": "python",
   "name": "python3"
  },
  "language_info": {
   "codemirror_mode": {
    "name": "ipython",
    "version": 3
   },
   "file_extension": ".py",
   "mimetype": "text/x-python",
   "name": "python",
   "nbconvert_exporter": "python",
   "pygments_lexer": "ipython3",
   "version": "3.8.8"
  }
 },
 "nbformat": 4,
 "nbformat_minor": 5
}
